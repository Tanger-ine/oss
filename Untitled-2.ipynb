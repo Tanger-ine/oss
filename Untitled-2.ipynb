{
 "cells": [
  {
   "cell_type": "code",
   "execution_count": 4,
   "metadata": {},
   "outputs": [
    {
     "name": "stdout",
     "output_type": "stream",
     "text": [
      "3\n",
      "0\n",
      "-1\n",
      "0\n",
      "30\n",
      "0\n",
      "0.875\n",
      "0.0\n",
      "3486784401\n",
      "1\n"
     ]
    }
   ],
   "source": [
    "def plus(a=0 , b=0):\n",
    "    print(a + b)\n",
    "\n",
    "def minus(a=0, b=0):\n",
    "    print(a - b)\n",
    "\n",
    "def division(a=0, b=1):\n",
    "    print(a / b)    \n",
    "    \n",
    "def multiply(a=0, b=0):\n",
    "    print(a * b)\n",
    "    \n",
    "def power(a=0, b=1):\n",
    "    print(a ** b)\n",
    "    \n",
    "plus(1,2)\n",
    "plus()\n",
    "minus(3,4)\n",
    "minus()\n",
    "multiply(5,6)\n",
    "multiply()\n",
    "division(7,8)\n",
    "division()\n",
    "power(9,10)\n",
    "power()\n"
   ]
  },
  {
   "cell_type": "code",
   "execution_count": null,
   "metadata": {},
   "outputs": [],
   "source": []
  }
 ],
 "metadata": {
  "kernelspec": {
   "display_name": "base",
   "language": "python",
   "name": "python3"
  },
  "language_info": {
   "codemirror_mode": {
    "name": "ipython",
    "version": 3
   },
   "file_extension": ".py",
   "mimetype": "text/x-python",
   "name": "python",
   "nbconvert_exporter": "python",
   "pygments_lexer": "ipython3",
   "version": "3.11.7"
  }
 },
 "nbformat": 4,
 "nbformat_minor": 2
}
